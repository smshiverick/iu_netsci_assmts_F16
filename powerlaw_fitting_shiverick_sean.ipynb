{
 "cells": [
  {
   "cell_type": "markdown",
   "metadata": {},
   "source": [
    "## F16 Network Science\n",
    "### Sean M. Shiverick \n",
    "\n",
    "# Praxis: Fitting power-laws to data\n",
    "This assigment combines what we learned this week to fit a power-law to some data and then visualize both the power-law and the fit.\n",
    "\n",
    "### (1) Getting the data\n",
    "First, generate some data to fit to. Use degree distribution from the Barabasi-Albert graph because it is power-law distributed. Create a BA graph using networkx with `n = 2500` and `m = 8` (adjust `n` or `m` if your computer has difficulty creating the graph).\n",
    "\n",
    "Then build a list/array of the node degrees."
   ]
  },
  {
   "cell_type": "code",
   "execution_count": 26,
   "metadata": {
    "collapsed": true
   },
   "outputs": [],
   "source": [
    "import numpy as np\n",
    "import networkx as nx\n",
    "%matplotlib inline\n",
    "import matplotlib.pyplot as plt"
   ]
  },
  {
   "cell_type": "code",
   "execution_count": 27,
   "metadata": {
    "collapsed": false
   },
   "outputs": [
    {
     "name": "stdout",
     "output_type": "stream",
     "text": [
      "Name: barabasi_albert_graph(2500,8)\n",
      "Type: Graph\n",
      "Number of nodes: 2500\n",
      "Number of edges: 19936\n",
      "Average degree:  15.9488\n"
     ]
    }
   ],
   "source": [
    "G = nx.barabasi_albert_graph(2500, 8)\n",
    "print(nx.info(G))"
   ]
  },
  {
   "cell_type": "code",
   "execution_count": 3,
   "metadata": {
    "collapsed": false
   },
   "outputs": [
    {
     "name": "stdout",
     "output_type": "stream",
     "text": [
      "[69, 136, 59, 61, 52, 57, 75, 139, 219, 204, 185, 182, 174, 173, 108, 139, 190, 159, 106, 106, 140, 92, 119, 49, 122, 105, 110, 106, 130, 89, 72, 63, 63, 76, 137, 79, 94, 97, 77, 96, 36, 66, 39, 84, 80, 72, 52, 59, 54, 41, 53, 42, 61, 82, 36, 42, 63, 76, 98, 37, 45, 43, 45, 62, 84, 25, 41, 48, 74, 47, 39, 34, 43, 24, 45, 30, 36, 19, 40, 38, 28, 42, 43, 39, 35, 23, 64, 49, 50, 44, 49, 76, 24, 54, 39, 39, 49, 23, 32, 24, 48, 36, 35, 26, 39, 34, 33, 33, 47, 32, 35, 36, 30, 49, 37, 53, 49, 41, 46, 39, 33, 65, 43, 39, 53, 41, 23, 38, 23, 18, 27, 32, 49, 29, 24, 32, 34, 42, 50, 47, 33, 32, 34, 26, 22, 23, 44, 35, 35, 25, 39, 50, 46, 48, 34, 72, 45, 27, 22, 57, 21, 35, 28, 44, 32, 26, 36, 38, 36, 52, 28, 31, 35, 13, 37, 32, 31, 45, 35, 33, 47, 37, 15, 26, 28, 34, 25, 30, 33, 36, 44, 16, 47, 29, 33, 52, 32, 23, 27, 36, 41, 28, 24, 26, 16, 35, 32, 14, 31, 37, 31, 26, 34, 27, 28, 34, 33, 14, 22, 28, 23, 24, 24, 24, 25, 29, 29, 23, 26, 31, 30, 21, 34, 30, 30, 40, 24, 28, 21, 17, 35, 35, 31, 24, 29, 28, 24, 20, 21, 21, 24, 31, 26, 26, 17, 28, 21, 28, 24, 26, 33, 20, 25, 21, 24, 23, 19, 25, 15, 20, 20, 24, 19, 27, 24, 24, 24, 28, 17, 33, 23, 32, 24, 41, 26, 23, 34, 22, 13, 44, 24, 28, 14, 24, 30, 28, 26, 26, 32, 17, 19, 26, 35, 18, 36, 19, 23, 26, 22, 47, 14, 28, 16, 25, 36, 22, 18, 19, 28, 18, 25, 15, 27, 26, 26, 30, 19, 22, 15, 13, 21, 18, 17, 24, 31, 22, 19, 18, 20, 27, 37, 23, 15, 18, 31, 31, 26, 42, 16, 29, 19, 23, 16, 28, 14, 17, 15, 15, 19, 20, 21, 20, 28, 22, 13, 27, 27, 18, 27, 16, 11, 18, 18, 18, 14, 20, 28, 12, 17, 18, 16, 15, 27, 15, 24, 16, 19, 24, 15, 11, 21, 26, 18, 20, 30, 18, 17, 14, 14, 21, 26, 16, 19, 29, 19, 21, 16, 14, 17, 19, 17, 29, 21, 27, 22, 15, 24, 15, 43, 21, 14, 20, 13, 20, 17, 25, 22, 21, 19, 13, 19, 13, 27, 16, 15, 12, 23, 19, 21, 20, 22, 25, 18, 20, 17, 18, 14, 16, 39, 16, 19, 14, 29, 23, 20, 30, 17, 24, 30, 14, 18, 24, 19, 20, 18, 26, 18, 13, 16, 13, 20, 16, 18, 10, 23, 18, 16, 21, 14, 17, 12, 20, 12, 21, 23, 23, 17, 19, 14, 18, 12, 24, 25, 22, 19, 21, 18, 15, 16, 16, 13, 24, 16, 27, 19, 21, 21, 27, 14, 23, 19, 16, 15, 12, 20, 14, 12, 11, 15, 12, 25, 14, 17, 19, 14, 18, 16, 13, 17, 17, 16, 23, 13, 13, 20, 15, 11, 18, 27, 13, 18, 10, 23, 18, 25, 13, 28, 19, 12, 15, 19, 14, 25, 19, 13, 22, 16, 12, 18, 15, 16, 19, 20, 19, 15, 18, 16, 18, 12, 17, 15, 18, 16, 19, 19, 13, 17, 15, 13, 16, 21, 18, 16, 22, 21, 17, 13, 14, 21, 17, 17, 23, 15, 16, 12, 20, 14, 21, 15, 13, 26, 12, 16, 10, 13, 17, 18, 20, 13, 14, 10, 11, 18, 18, 16, 19, 21, 15, 12, 9, 15, 14, 21, 14, 12, 14, 18, 9, 18, 11, 12, 12, 14, 17, 15, 17, 15, 18, 11, 15, 18, 17, 9, 15, 13, 24, 10, 20, 11, 15, 17, 13, 9, 20, 16, 12, 16, 14, 18, 17, 19, 12, 13, 21, 19, 11, 15, 16, 19, 15, 14, 13, 26, 11, 13, 18, 25, 15, 18, 15, 19, 9, 14, 16, 20, 19, 18, 12, 17, 16, 24, 18, 15, 15, 20, 14, 19, 13, 13, 12, 15, 10, 18, 17, 25, 17, 15, 14, 10, 11, 16, 12, 18, 13, 11, 18, 20, 21, 21, 13, 14, 11, 18, 13, 16, 14, 13, 17, 18, 10, 12, 17, 14, 13, 21, 16, 14, 17, 22, 17, 15, 18, 14, 10, 18, 18, 12, 11, 11, 14, 10, 10, 10, 15, 10, 13, 10, 16, 12, 9, 15, 17, 16, 16, 11, 27, 23, 21, 15, 16, 13, 16, 14, 12, 13, 17, 13, 12, 13, 16, 16, 12, 19, 13, 11, 24, 13, 13, 10, 15, 13, 13, 19, 16, 16, 15, 15, 14, 17, 12, 18, 17, 14, 12, 19, 16, 12, 17, 13, 13, 18, 17, 13, 12, 12, 15, 12, 11, 16, 11, 13, 16, 12, 9, 12, 9, 12, 17, 11, 11, 9, 17, 13, 12, 13, 12, 12, 14, 13, 15, 12, 16, 13, 14, 11, 12, 11, 11, 15, 11, 12, 12, 10, 28, 11, 20, 17, 9, 11, 11, 13, 11, 18, 20, 10, 15, 10, 18, 13, 18, 12, 10, 17, 16, 13, 11, 11, 18, 13, 18, 15, 19, 14, 13, 15, 15, 15, 10, 11, 12, 13, 15, 22, 11, 10, 10, 10, 13, 17, 13, 16, 13, 16, 11, 12, 16, 15, 10, 8, 8, 12, 17, 11, 10, 8, 11, 14, 10, 15, 13, 14, 12, 13, 11, 11, 15, 23, 12, 11, 15, 14, 14, 12, 12, 17, 15, 9, 10, 14, 16, 14, 13, 12, 14, 12, 17, 10, 18, 16, 12, 10, 19, 15, 10, 15, 14, 9, 14, 13, 9, 13, 13, 12, 11, 14, 12, 10, 14, 13, 13, 11, 10, 11, 12, 12, 11, 12, 10, 9, 16, 19, 12, 12, 13, 11, 16, 10, 9, 16, 13, 13, 10, 14, 12, 10, 12, 14, 11, 19, 9, 9, 14, 10, 9, 11, 16, 12, 11, 13, 14, 11, 11, 14, 13, 12, 13, 14, 12, 12, 17, 13, 15, 11, 10, 10, 15, 9, 12, 11, 18, 9, 10, 11, 14, 10, 13, 16, 12, 12, 11, 15, 9, 13, 11, 13, 15, 13, 15, 13, 13, 13, 10, 8, 15, 11, 10, 14, 10, 11, 10, 15, 10, 13, 16, 17, 12, 16, 9, 11, 12, 12, 12, 11, 13, 13, 11, 14, 13, 11, 15, 8, 13, 9, 11, 16, 12, 11, 16, 13, 14, 12, 14, 13, 17, 9, 13, 15, 9, 17, 11, 12, 18, 12, 11, 13, 11, 10, 14, 13, 10, 12, 9, 9, 17, 18, 11, 17, 11, 9, 13, 13, 14, 8, 13, 8, 11, 10, 14, 14, 14, 12, 11, 10, 11, 10, 14, 8, 9, 15, 11, 12, 11, 14, 10, 10, 13, 11, 10, 10, 12, 12, 14, 8, 10, 10, 12, 11, 13, 11, 11, 9, 9, 10, 14, 11, 9, 12, 12, 13, 16, 13, 11, 11, 16, 19, 8, 9, 9, 10, 9, 15, 12, 16, 14, 9, 13, 12, 15, 12, 11, 17, 10, 15, 12, 11, 11, 12, 9, 11, 8, 11, 14, 10, 15, 9, 11, 12, 12, 12, 10, 9, 16, 9, 10, 14, 14, 11, 11, 8, 18, 11, 11, 8, 11, 17, 11, 8, 10, 9, 10, 14, 13, 13, 8, 14, 14, 11, 9, 12, 15, 9, 12, 9, 15, 14, 8, 9, 9, 8, 10, 14, 12, 13, 12, 16, 10, 14, 10, 12, 14, 15, 11, 10, 14, 11, 11, 13, 13, 10, 13, 14, 8, 11, 12, 13, 8, 12, 15, 10, 12, 8, 12, 14, 12, 11, 12, 10, 11, 12, 13, 12, 10, 16, 12, 13, 10, 11, 13, 13, 12, 10, 15, 12, 10, 13, 10, 13, 10, 11, 11, 13, 12, 9, 9, 9, 14, 10, 10, 14, 11, 11, 11, 12, 15, 17, 10, 8, 15, 14, 13, 9, 14, 13, 9, 9, 8, 8, 9, 13, 14, 12, 11, 17, 9, 10, 12, 9, 12, 13, 13, 11, 12, 9, 10, 9, 14, 11, 14, 11, 10, 11, 9, 11, 15, 11, 12, 14, 11, 13, 8, 11, 14, 11, 8, 14, 8, 11, 13, 9, 8, 14, 12, 13, 12, 8, 9, 11, 9, 13, 9, 8, 8, 11, 12, 8, 10, 9, 10, 12, 10, 9, 11, 9, 11, 9, 12, 15, 13, 10, 10, 14, 10, 9, 10, 8, 9, 10, 12, 9, 10, 9, 9, 12, 14, 13, 10, 11, 11, 13, 8, 9, 8, 10, 8, 9, 8, 14, 11, 8, 14, 9, 11, 11, 9, 13, 9, 11, 11, 10, 10, 12, 11, 10, 16, 9, 9, 10, 9, 9, 11, 9, 9, 13, 9, 10, 10, 11, 13, 11, 10, 12, 14, 9, 9, 11, 9, 12, 12, 8, 19, 10, 11, 9, 9, 8, 8, 13, 9, 10, 11, 11, 10, 8, 14, 9, 12, 9, 13, 11, 12, 11, 10, 11, 11, 9, 8, 14, 11, 10, 12, 8, 10, 8, 10, 11, 12, 11, 8, 10, 11, 10, 8, 9, 9, 11, 10, 17, 8, 10, 10, 9, 10, 9, 8, 9, 13, 13, 9, 9, 12, 13, 11, 9, 11, 10, 10, 12, 8, 9, 13, 11, 10, 11, 13, 8, 9, 8, 8, 9, 11, 8, 10, 12, 10, 11, 10, 9, 8, 9, 9, 14, 9, 10, 8, 11, 10, 11, 9, 10, 9, 10, 11, 13, 9, 13, 13, 9, 10, 8, 8, 8, 9, 8, 10, 11, 11, 13, 8, 9, 8, 9, 10, 10, 13, 9, 10, 12, 12, 12, 11, 8, 9, 9, 9, 13, 9, 9, 9, 10, 10, 9, 9, 10, 11, 8, 14, 9, 8, 9, 10, 11, 9, 9, 10, 10, 10, 9, 11, 11, 9, 10, 9, 10, 11, 10, 12, 15, 9, 11, 8, 9, 8, 9, 9, 11, 9, 10, 9, 12, 11, 9, 13, 8, 13, 10, 8, 11, 11, 13, 10, 11, 8, 14, 11, 11, 9, 15, 12, 10, 8, 8, 9, 8, 11, 9, 10, 8, 12, 11, 9, 8, 10, 8, 11, 12, 8, 10, 10, 10, 11, 13, 10, 11, 8, 9, 9, 8, 8, 10, 14, 10, 10, 8, 8, 8, 10, 8, 9, 9, 10, 10, 9, 9, 11, 9, 10, 9, 9, 11, 9, 9, 8, 8, 8, 9, 12, 9, 8, 8, 10, 11, 9, 14, 12, 11, 8, 9, 9, 12, 9, 10, 9, 11, 15, 8, 9, 10, 10, 9, 10, 9, 8, 11, 10, 8, 9, 8, 11, 10, 11, 9, 11, 8, 9, 10, 8, 8, 8, 11, 13, 10, 8, 11, 9, 10, 9, 9, 9, 10, 9, 9, 8, 8, 12, 9, 9, 9, 9, 9, 8, 12, 11, 11, 8, 11, 8, 10, 9, 8, 9, 10, 11, 9, 9, 9, 12, 10, 9, 10, 10, 9, 11, 10, 9, 9, 10, 12, 10, 11, 11, 8, 11, 11, 9, 9, 9, 8, 8, 10, 9, 9, 12, 9, 8, 8, 8, 12, 10, 10, 8, 8, 8, 10, 8, 9, 10, 8, 10, 8, 8, 10, 9, 10, 9, 11, 11, 8, 8, 9, 9, 12, 9, 11, 9, 9, 11, 9, 10, 8, 9, 13, 9, 8, 9, 9, 9, 9, 9, 12, 9, 9, 9, 10, 9, 12, 9, 9, 9, 9, 8, 11, 10, 8, 8, 8, 9, 10, 8, 9, 8, 11, 8, 9, 8, 10, 10, 8, 9, 9, 11, 11, 8, 9, 9, 8, 9, 8, 8, 9, 8, 8, 12, 10, 9, 14, 10, 8, 9, 10, 8, 11, 10, 8, 10, 8, 9, 9, 10, 10, 8, 9, 9, 9, 8, 9, 9, 8, 9, 9, 9, 9, 8, 8, 8, 11, 10, 9, 8, 8, 8, 8, 8, 8, 8, 8, 9, 8, 9, 8, 11, 8, 9, 9, 13, 8, 9, 8, 10, 9, 10, 8, 8, 13, 8, 8, 8, 10, 10, 9, 10, 8, 8, 9, 8, 8, 9, 9, 8, 10, 9, 9, 10, 8, 11, 8, 9, 8, 9, 8, 10, 8, 13, 8, 11, 10, 9, 10, 9, 9, 9, 11, 9, 10, 9, 10, 8, 10, 10, 9, 8, 9, 8, 11, 8, 8, 9, 8, 9, 8, 8, 8, 8, 8, 9, 9, 8, 8, 11, 8, 8, 9, 9, 8, 8, 10, 8, 8, 9, 8, 9, 8, 10, 9, 8, 9, 8, 9, 10, 8, 8, 8, 8, 8, 10, 10, 9, 8, 9, 8, 9, 8, 8, 9, 9, 8, 8, 8, 10, 8, 8, 8, 11, 9, 8, 8, 8, 10, 10, 8, 8, 11, 8, 9, 8, 9, 9, 8, 8, 9, 8, 10, 9, 10, 8, 9, 8, 8, 8, 8, 9, 10, 8, 10, 10, 8, 8, 8, 8, 8, 10, 8, 9, 9, 8, 8, 8, 8, 8, 9, 8, 8, 8, 8, 9, 9, 9, 8, 8, 8, 9, 8, 8, 9, 8, 9, 8, 8, 8, 8, 8, 8, 8, 9, 8, 9, 8, 8, 8, 10, 9, 8, 10, 8, 8, 8, 9, 8, 9, 10, 10, 8, 8, 8, 9, 8, 8, 8, 9, 8, 8, 9, 9, 8, 8, 8, 8, 8, 11, 9, 8, 9, 8, 8, 9, 8, 8, 8, 8, 10, 9, 8, 8, 8, 8, 9, 9, 8, 9, 8, 9, 8, 8, 8, 8, 9, 8, 8, 8, 8, 8, 9, 8, 8, 8, 8, 8, 10, 9, 8, 8, 8, 8, 9, 8, 8, 9, 9, 9, 8, 9, 8, 8, 9, 8, 9, 8, 8, 9, 8, 10, 8, 10, 8, 8, 8, 8, 8, 8, 9, 8, 9, 9, 8, 8, 8, 8, 8, 8, 8, 8, 8, 9, 8, 8, 8, 8, 8, 8, 8, 9, 8, 8, 8, 8, 8, 8, 8, 8, 8, 8, 10, 8, 8, 8, 8, 8, 8, 8, 8, 8, 8, 8, 8, 8, 8, 8, 8, 8, 8, 8, 9, 10, 8, 8, 8, 8, 8, 8, 8, 8, 8, 8, 9, 8, 9, 9, 8, 8, 8, 8, 8, 8, 9, 9, 9, 8, 9, 8, 8, 9, 8, 8, 9, 9, 8, 9, 8, 8, 8, 8, 8, 8, 9, 8, 8, 8, 8, 8, 9, 8, 8, 8, 10, 8, 8, 8, 8, 9, 8, 8, 9, 8, 8, 8, 8, 8, 9, 8, 8, 8, 8, 8, 8, 8, 8, 9, 9, 8, 9, 9, 9, 8, 8, 8, 8, 8, 9, 8, 8, 8, 8, 8, 8, 8, 8, 8, 8, 8, 8, 8, 8, 8, 8, 8, 8, 8, 8, 8, 8, 8, 8, 8, 8, 8, 8, 8, 8, 8, 8, 8, 8, 8, 8, 8, 8, 8, 8, 8, 8, 8, 8, 8, 8, 8, 8, 8, 8, 8, 8, 8, 8, 8, 8, 8, 8, 8, 8, 8, 8, 8, 8, 8, 8, 8, 8, 8, 8, 9, 8, 8, 8, 8, 8, 8, 8, 8, 8, 8, 8, 8]\n"
     ]
    }
   ],
   "source": [
    "# Build a list/array of the node degrees.\n",
    "\n",
    "degrees = G.degree()\n",
    "edges = [v for v in dict.values(degrees)]\n",
    "print(edges)"
   ]
  },
  {
   "cell_type": "markdown",
   "metadata": {},
   "source": [
    "### (2) Find the power-law cut-off\n",
    "It is normally the case in power-law distributed data that there is a value below which the power-law relation does not hold. We will express this value as `xmin`. In order to fit the scaling exponent, we first need to estimate `xmin` and then discard all values in the distribution below it.\n",
    "\n",
    "Since calculating the optimal `xmin` can be a challenge in itself, you can use Aaron Clauset's [powerlaw](http://tuvalu.santafe.edu/~aaronc/powerlaws/) package to determine `xmin`. The package can be installed using pip from the commandline: `pip install powerlaw`\n",
    "\n",
    "The package should then be available for import:\n",
    "\n",
    "```\n",
    "import powerlaw\n",
    "```\n",
    "\n",
    "And can be called using (see [documentation for additional arguments](http://arxiv.org/pdf/1305.0215v3.pdf)):\n",
    "\n",
    "```\n",
    "fit = powerlaw.Fit(some_data) \n",
    "print(fit.xmin)\n",
    "``'"
   ]
  },
  {
   "cell_type": "code",
   "execution_count": 28,
   "metadata": {
    "collapsed": false
   },
   "outputs": [
    {
     "name": "stdout",
     "output_type": "stream",
     "text": [
      "23.0\n"
     ]
    },
    {
     "name": "stderr",
     "output_type": "stream",
     "text": [
      "Calculating best minimal value for power law fit\n",
      "/Users/seanshiverick/anaconda/lib/python3.5/site-packages/powerlaw.py:692: RuntimeWarning: invalid value encountered in true_divide\n",
      "  (Theoretical_CDF * (1 - Theoretical_CDF))\n"
     ]
    }
   ],
   "source": [
    "# Find xmin and adjust data (your code here)\n",
    "import powerlaw\n",
    "fit = powerlaw.Fit(edges) \n",
    "print(fit.xmin)"
   ]
  },
  {
   "cell_type": "code",
   "execution_count": 74,
   "metadata": {
    "collapsed": false
   },
   "outputs": [
    {
     "data": {
      "text/plain": [
       "(array([  2.20500000e+03,   1.73000000e+02,   6.40000000e+01,\n",
       "          2.40000000e+01,   8.00000000e+00,   8.00000000e+00,\n",
       "          4.00000000e+00,   3.00000000e+00,   3.00000000e+00,\n",
       "          0.00000000e+00,   1.00000000e+00,   2.00000000e+00,\n",
       "          2.00000000e+00,   0.00000000e+00,   2.00000000e+00,\n",
       "          0.00000000e+00,   0.00000000e+00,   0.00000000e+00,\n",
       "          0.00000000e+00,   1.00000000e+00]),\n",
       " array([   8. ,   23.9,   39.8,   55.7,   71.6,   87.5,  103.4,  119.3,\n",
       "         135.2,  151.1,  167. ,  182.9,  198.8,  214.7,  230.6,  246.5,\n",
       "         262.4,  278.3,  294.2,  310.1,  326. ]),\n",
       " <a list of 20 Patch objects>)"
      ]
     },
     "execution_count": 74,
     "metadata": {},
     "output_type": "execute_result"
    },
    {
     "data": {
      "image/png": "[encoded data removed]",
      "text/plain": [
       "<matplotlib.figure.Figure at 0x10be11780>"
      ]
     },
     "metadata": {},
     "output_type": "display_data"
    }
   ],
   "source": [
    "# Alternatively, you can get a rough estimate of cut-off by visualizing the power-law.\n",
    "\n",
    "degree_data = [G.degree(n) for n in G]\n",
    "plt.hist(degree_data, bins=20)"
   ]
  },
  {
   "cell_type": "code",
   "execution_count": 97,
   "metadata": {
    "collapsed": false
   },
   "outputs": [
    {
     "name": "stdout",
     "output_type": "stream",
     "text": [
      "[ 69 136  59  61  52  57  75 139 219 204 185 182 174 173 108 139 190 159\n",
      " 106 106 140  92 119  49 122 105 110 106 130  89  72  63  63  76 137  79\n",
      "  94  97  77  96  36  66  39  84  80  72  52  59  54  41  53  42  61  82\n",
      "  36  42  63  76  98  37  45  43  45  62  84  25  41  48  74  47  39  34\n",
      "  43  24  45  30  36  40  38  28  42  43  39  35  23  64  49  50  44  49\n",
      "  76  24  54  39  39  49  23  32  24  48  36  35  26  39  34  33  33  47\n",
      "  32  35  36  30  49  37  53  49  41  46  39  33  65  43  39  53  41  23\n",
      "  38  23  27  32  49  29  24  32  34  42  50  47  33  32  34  26  23  44\n",
      "  35  35  25  39  50  46  48  34  72  45  27  57  35  28  44  32  26  36\n",
      "  38  36  52  28  31  35  37  32  31  45  35  33  47  37  26  28  34  25\n",
      "  30  33  36  44  47  29  33  52  32  23  27  36  41  28  24  26  35  32\n",
      "  31  37  31  26  34  27  28  34  33  28  23  24  24  24  25  29  29  23\n",
      "  26  31  30  34  30  30  40  24  28  35  35  31  24  29  28  24  24  31\n",
      "  26  26  28  28  24  26  33  25  24  23  25  24  27  24  24  24  28  33\n",
      "  23  32  24  41  26  23  34  44  24  28  24  30  28  26  26  32  26  35\n",
      "  36  23  26  47  28  25  36  28  25  27  26  26  30  24  31  27  37  23\n",
      "  31  31  26  42  29  23  28  28  27  27  27  28  27  24  24  26  30  26\n",
      "  29  29  27  24  43  25  27  23  25  39  29  23  30  24  30  24  26  23\n",
      "  23  23  24  25  24  27  27  23  25  23  27  23  25  28  25  23  26  24\n",
      "  26  25  24  25  27  23  24  28  23]\n"
     ]
    }
   ],
   "source": [
    "# Subset the data set for values above xmin\n",
    "# Return output as a LIST\n",
    "\n",
    "edges = np.array(edges)\n",
    "cut_edges = edges[ edges > 22]\n",
    "print(cut_edges)"
   ]
  },
  {
   "cell_type": "markdown",
   "metadata": {},
   "source": [
    "## (3) Find scaling exponent\n",
    "With the data available and `xmin` estimated we can now estimate the scaling exponent for our degree distribution. Use the maximum-likelihood approach to estimate the scaling exponent (see equation 3.7 from [the reading](https://iu.instructure.com/courses/1564562/files/64585579?module_item_id=15083021))."
   ]
  },
  {
   "cell_type": "code",
   "execution_count": 98,
   "metadata": {
    "collapsed": false,
    "scrolled": true
   },
   "outputs": [
    {
     "name": "stdout",
     "output_type": "stream",
     "text": [
      "2.966753165\n"
     ]
    }
   ],
   "source": [
    "# Estimate scaling exponent based on MLE (maximum likelihood estimator) for continuous data\n",
    "# alpha_hat = 1 + n / sum(log(x))\n",
    "\n",
    "alpha_hat = 1 + 2500 / sum(np.log(cut_edges))\n",
    "print(alpha_hat)\n",
    "\n",
    "# http://www.johndcook.com/blog/2015/11/24/estimating-the-exponent-of-discrete-power-law-data/"
   ]
  },
  {
   "cell_type": "markdown",
   "metadata": {},
   "source": [
    "## (4) Visualize the power-law\n",
    "Plot the CCDF of the power-law along with a best-fit line made using your estimated scaling exponent. If the fit is good, it should fall right on-top of the data-points on the CCDF plot."
   ]
  },
  {
   "cell_type": "code",
   "execution_count": 100,
   "metadata": {
    "collapsed": false
   },
   "outputs": [
    {
     "data": {
      "text/plain": [
       "[<matplotlib.lines.Line2D at 0x11038ddd8>]"
      ]
     },
     "execution_count": 100,
     "metadata": {},
     "output_type": "execute_result"
    },
    {
     "data": {
      "image/png": "[encoded data removed]",
      "text/plain": [
       "<matplotlib.figure.Figure at 0x11038db70>"
      ]
     },
     "metadata": {},
     "output_type": "display_data"
    }
   ],
   "source": [
    "import matplotlib.pyplot as plt\n",
    "import numpy as np\n",
    "\n",
    "# Sort the data using the numpy sort function `np.sort()`\n",
    "nums = cut_edges\n",
    "\n",
    "sorted_distribution = np.sort(nums)\n",
    "\n",
    "num_points = len(nums)\n",
    "cumulative_density = []\n",
    "for i in range(1, num_points + 1):\n",
    "    cumulative_density.append( i / num_points )\n",
    "\n",
    "# Convert cumulative_density to a numpy array to make it easier to work with\n",
    "cumulative_density = np.array(cumulative_density)\n",
    "\n",
    "ccdf = 1 - cumulative_density\n",
    "\n",
    "X = sorted_distribution\n",
    "Y = 1 - cumulative_density\n",
    "\n",
    "plt.loglog(X,Y)"
   ]
  },
  {
   "cell_type": "code",
   "execution_count": 115,
   "metadata": {
    "collapsed": false
   },
   "outputs": [
    {
     "name": "stderr",
     "output_type": "stream",
     "text": [
      "/Users/seanshiverick/anaconda/lib/python3.5/site-packages/powerlaw.py:692: RuntimeWarning: invalid value encountered in true_divide\n",
      "  (Theoretical_CDF * (1 - Theoretical_CDF))\n"
     ]
    },
    {
     "name": "stdout",
     "output_type": "stream",
     "text": [
      "alpha=  2.93924498744   sigma=  0.0969622493722\n"
     ]
    },
    {
     "data": {
      "image/png": "[encoded data removed]",
      "text/plain": [
       "<matplotlib.figure.Figure at 0x11149ce80>"
      ]
     },
     "metadata": {},
     "output_type": "display_data"
    }
   ],
   "source": [
    "# Alternate approach from Stackoverflow to include the best fit line on plot\n",
    "\n",
    "import powerlaw\n",
    "\n",
    "fit = powerlaw.Fit(np.array(edges)+1,xmin=22,discrete=True)\n",
    "fit.power_law.plot_pdf( color= 'b',linestyle='--',label='fit ccdf')\n",
    "fit.plot_pdf( color= 'b')\n",
    "\n",
    "print('alpha= ',fit.power_law.alpha,'  sigma= ',fit.power_law.sigma)\n",
    "\n",
    "# http://stackoverflow.com/questions/16640496/python-plot-and-powerlaw-fit"
   ]
  },
  {
   "cell_type": "markdown",
   "metadata": {},
   "source": [
    "# Using your own data\n",
    "Now that you have done the fit and visualization for the BA graph, find your graph or other data and repeat the analysis. You are welcome to use data from this [graph website](http://www-personal.umich.edu/~mejn/netdata/), [Clauset's work](http://tuvalu.santafe.edu/~aaronc/powerlaws/data.htm), or from whatever real-world graphs you can find. Make sure to include the graph or data file when uploading this notebook (and avoid using a huge dataset).\n",
    "\n",
    "The human populations of US cities in the 2000 US Census.\n",
    "http://tuvalu.santafe.edu/~aaronc/powerlaws/data.htm"
   ]
  },
  {
   "cell_type": "markdown",
   "metadata": {},
   "source": [
    "### (1) Getting real-world distribution"
   ]
  },
  {
   "cell_type": "code",
   "execution_count": 106,
   "metadata": {
    "collapsed": false
   },
   "outputs": [
    {
     "name": "stdout",
     "output_type": "stream",
     "text": [
      "1\n",
      "1\n",
      "2\n",
      "2\n",
      "3\n",
      "5\n",
      "6\n",
      "6\n",
      "6\n",
      "6\n",
      "951270\n",
      "1151305\n",
      "1188589\n",
      "1223429\n",
      "1321190\n",
      "1517550\n",
      "1953633\n",
      "2896047\n",
      "3694742\n",
      "8008654\n",
      "[1, 1, 2, 2, 3] ... [1517550, 1953633, 2896047, 3694742, 8008654]\n"
     ]
    }
   ],
   "source": [
    "fname = 'cities.txt'\n",
    "!head 'cities.txt'\n",
    "!tail 'cities.txt'\n",
    "\n",
    "data = [int(x) for x in open('cities.txt')]\n",
    "print(data[:5], '...', data[-5:])"
   ]
  },
  {
   "cell_type": "markdown",
   "metadata": {},
   "source": [
    "### (2) Finding cut-off"
   ]
  },
  {
   "cell_type": "code",
   "execution_count": 107,
   "metadata": {
    "collapsed": false
   },
   "outputs": [
    {
     "name": "stderr",
     "output_type": "stream",
     "text": [
      "Calculating best minimal value for power law fit\n",
      "/Users/seanshiverick/anaconda/lib/python3.5/site-packages/powerlaw.py:692: RuntimeWarning: invalid value encountered in true_divide\n",
      "  (Theoretical_CDF * (1 - Theoretical_CDF))\n"
     ]
    },
    {
     "name": "stdout",
     "output_type": "stream",
     "text": [
      "52457.0\n"
     ]
    }
   ],
   "source": [
    "fit = powerlaw.Fit(data) \n",
    "print(fit.xmin)"
   ]
  },
  {
   "cell_type": "code",
   "execution_count": 110,
   "metadata": {
    "collapsed": false
   },
   "outputs": [
    {
     "name": "stdout",
     "output_type": "stream",
     "text": [
      "[  52466   52524   52613   52648   52715   52717   52793   52913   52946\n",
      "   52975   53054   53071   53077   53109   53127   53205   53296   53364\n",
      "   53421   53505   53909   53948   54016   54059   54088   54239   54260\n",
      "   54370   54514   54552   54593   54653   54749   54901   54977   54978\n",
      "   55147   55245   55256   55266   55419   55502   55513   55566   55588\n",
      "   55593   55635   55765   55825   55901   55919   55976   55981   56052\n",
      "   56063   56255   56259   56265   56287   56340   56352   56372   56456\n",
      "   56521   56646   56694   56769   56929   56933   57104   57221   57247\n",
      "   57585   57695   57697   57746   57755   57870   57923   57955   58062\n",
      "   58244   58264   58266   58271   58590   58596   58757   58812   58898\n",
      "   58912   58969   58974   59226   59577   59684   59686   59702   59740\n",
      "   59880   60032   60051   60062   60062   60213   60220   60308   60389\n",
      "   60432   60448   60523   60525   60552   60578   60603   61182   61254\n",
      "   61348   61607   61714   61792   61821   61842   61968   62150   62226\n",
      "   62406   62590   62698   62749   63011   63096   63261   63285   63296\n",
      "   63317   63325   63428   63557   63603   63677   63828   63870   63900\n",
      "   64029   64112   64196   64249   64296   64583   64903   65269   65273\n",
      "   65660   65868   65894   65920   65936   66455   66715   66787   66869\n",
      "   67083   67088   67173   67249   67388   67504   67561   67624   67861\n",
      "   68015   68263   68315   68381   68393   68556   68652   68747   68825\n",
      "   68904   68991   69368   69473   69567   69824   69845   70126   70296\n",
      "   70517   70702   70705   71021   71118   71127   71283   71329   71393\n",
      "   71538   72043   72069   72182   72259   72664   72670   72684   72739\n",
      "   72878   72958   73344   73402   73539   73990   74239   74764   74848\n",
      "   75402   75402   75702   75720   75837   76021   76042   76415   76760\n",
      "   76947   77021   77145   77248   77423   77478   77685   77737   77753\n",
      "   77962   78296   78306   78721   79062   79269   79345   79426   79452\n",
      "   79554   79904   79928   80056   80114   80142   80268   80431   80537\n",
      "   80734   80874   80959   81111   81207   81855   81991   82026   82111\n",
      "   82376   82549   82934   82951   83048   83259   83629   83829   84084\n",
      "   84110   84112   84329   84362   84662   85025   85071   85172   85403\n",
      "   85616   85655   85779   85794   85808   85932   85979   86319   86602\n",
      "   86605   86911   87097   87933   88025   88116   88207   88443   88642\n",
      "   88774   88967   89050   89621   89692   89730   90032   90205   90405\n",
      "   90532   90607   90943   91628   91776   91938   91957   92335   92472\n",
      "   92779   92998   93102   93493   93768   94301   94304   94492   94580\n",
      "   94624   94666   94892   94911   94996   95694   96178   96375   96650\n",
      "   97255   97775   98359   99216  100266  100316  100545  100565  100920\n",
      "  100998  101355  102129  102238  102286  102361  102673  102743  102746\n",
      "  102767  103478  103625  103717  104197  104323  105080  105167  105441\n",
      "  106431  106632  106656  107006  107271  107323  107919  108685  108756\n",
      "  108896  108902  109578  109949  111365  111373  111473  111532  112495\n",
      "  112580  113019  113288  113866  113880  114117  115488  115930  115965\n",
      "  116273  116760  116829  117005  117083  117549  118716  118718  119371\n",
      "  120568  121271  121582  121872  122882  123626  124121  124471  124506\n",
      "  124523  124943  125056  125251  126003  127427  127743  128283  128409\n",
      "  128821  128937  131784  131844  133747  133936  136991  137415  137946\n",
      "  138247  138319  139529  139530  139715  140031  141674  142379  142685\n",
      "  143072  143148  143593  144137  146435  146437  146866  147854  149222\n",
      "  149431  149473  150349  151131  151404  151722  152082  154198  155681\n",
      "  158011  158518  158625  161029  165196  166196  170359  172648  173553\n",
      "  173618  173627  174501  175406  176643  177322  180150  180900  181767\n",
      "  183135  184256  185237  185787  185975  186291  187316  188864  189453\n",
      "  189627  190914  191615  193556  194973  195182  195629  196019  197790\n",
      "  197800  198768  199184  199191  199572  200172  201607  202596  203413\n",
      "  208903  215794  217070  218831  219773  220483  222008  224047  225638\n",
      "  226419  228520  234403  240055  242790  243082  243771  248408  255175\n",
      "  256207  260283  260512  272537  275923  277496  282956  286840  292648\n",
      "  303463  313782  328071  331285  332969  334563  337977  348189  351150\n",
      "  360988  362437  371657  382747  391019  393120  397776  399484  407018\n",
      "  416441  425257  428873  441545  448948  461522  477472  479639  484674\n",
      "  487341  506129  529184  541099  545535  553693  557834  563376  563657\n",
      "  572059  589141  596974  650100  651154  656562  711265  735617  776733\n",
      "  781864  895193  951270 1151305 1188589 1223429 1321190 1517550 1953633\n",
      " 2896047 3694742 8008654]\n"
     ]
    }
   ],
   "source": [
    "# Subset the data set for values above xmin\n",
    "# Return output as a LIST\n",
    "\n",
    "data = np.array(data)\n",
    "cut_data = data[ data > 52457]\n",
    "print(cut_data)"
   ]
  },
  {
   "cell_type": "markdown",
   "metadata": {},
   "source": [
    "### (3) Estimating scaling exponent"
   ]
  },
  {
   "cell_type": "code",
   "execution_count": 112,
   "metadata": {
    "collapsed": false
   },
   "outputs": [
    {
     "name": "stdout",
     "output_type": "stream",
     "text": [
      "1.27613214437\n"
     ]
    }
   ],
   "source": [
    "alpha_hat = 1 + len(cut_edges) / sum(np.log(cut_edges))\n",
    "print(alpha_hat)\n",
    "\n",
    "# http://www.johndcook.com/blog/2015/11/24/estimating-the-exponent-of-discrete-power-law-data/"
   ]
  },
  {
   "cell_type": "markdown",
   "metadata": {},
   "source": [
    "### (4) Visualize power-law and best-fit"
   ]
  },
  {
   "cell_type": "code",
   "execution_count": 113,
   "metadata": {
    "collapsed": false
   },
   "outputs": [
    {
     "data": {
      "text/plain": [
       "[<matplotlib.lines.Line2D at 0x1103f11d0>]"
      ]
     },
     "execution_count": 113,
     "metadata": {},
     "output_type": "execute_result"
    },
    {
     "data": {
      "image/png": "[encoded data removed]",
      "text/plain": [
       "<matplotlib.figure.Figure at 0x1103bc908>"
      ]
     },
     "metadata": {},
     "output_type": "display_data"
    }
   ],
   "source": [
    "# Sort the data using the numpy sort function `np.sort()`\n",
    "city = cut_data\n",
    "\n",
    "sorted_distribution = np.sort(city)\n",
    "\n",
    "num_points = len(city)\n",
    "cumulative_density = []\n",
    "for i in range(1, num_points + 1):\n",
    "    cumulative_density.append( i / num_points )\n",
    "\n",
    "# Convert cumulative_density to a numpy array to make it easier to work with\n",
    "cumulative_density = np.array(cumulative_density)\n",
    "\n",
    "ccdf = 1 - cumulative_density\n",
    "\n",
    "X = sorted_distribution\n",
    "Y = 1- cumulative_density\n",
    "\n",
    "plt.loglog(X,Y)"
   ]
  },
  {
   "cell_type": "code",
   "execution_count": 114,
   "metadata": {
    "collapsed": false
   },
   "outputs": [
    {
     "name": "stdout",
     "output_type": "stream",
     "text": [
      "alpha=  2.36991353877   sigma=  0.0568825635928\n"
     ]
    },
    {
     "name": "stderr",
     "output_type": "stream",
     "text": [
      "/Users/seanshiverick/anaconda/lib/python3.5/site-packages/matplotlib/scale.py:101: RuntimeWarning: invalid value encountered in less_equal\n",
      "  a[a <= 0.0] = 1e-300\n"
     ]
    },
    {
     "data": {
      "image/png": "[encoded data removed]",
      "text/plain": [
       "<matplotlib.figure.Figure at 0x111201fd0>"
      ]
     },
     "metadata": {},
     "output_type": "display_data"
    }
   ],
   "source": [
    "fit = powerlaw.Fit(np.array(data)+1,xmin=52457,discrete=True)\n",
    "fit.power_law.plot_pdf( color= 'b',linestyle='--',label='fit ccdf')\n",
    "fit.plot_pdf( color= 'b')\n",
    "\n",
    "print('alpha= ',fit.power_law.alpha,'  sigma= ',fit.power_law.sigma)"
   ]
  }
 ],
 "metadata": {
  "kernelspec": {
   "display_name": "Python [Root]",
   "language": "python",
   "name": "Python [Root]"
  },
  "language_info": {
   "codemirror_mode": {
    "name": "ipython",
    "version": 3
   },
   "file_extension": ".py",
   "mimetype": "text/x-python",
   "name": "python",
   "nbconvert_exporter": "python",
   "pygments_lexer": "ipython3",
   "version": "3.5.2"
  }
 },
 "nbformat": 4,
 "nbformat_minor": 0
}
